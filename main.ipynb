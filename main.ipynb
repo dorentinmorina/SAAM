{
 "cells": [
  {
   "cell_type": "markdown",
   "metadata": {},
   "source": [
    "### Sustainability Aware Asset Management: **Group A (Mean-Variance Portfolio)**\n",
    "#### **Part I - Standard Asset Allocation**"
   ]
  },
  {
   "cell_type": "code",
   "execution_count": 1,
   "metadata": {},
   "outputs": [],
   "source": [
    "## Packages lists:\n",
    "import pandas as pd\n",
    "import numpy as np\n",
    "import matplotlib.pyplot as plt\n",
    "import seaborn as sn\n",
    "import scipy as sp\n",
    "\n",
    "## Importing all the dataframes from data.ipynb\n",
    "%run data.ipynb"
   ]
  },
  {
   "cell_type": "code",
   "execution_count": 2,
   "metadata": {},
   "outputs": [],
   "source": [
    "## Converting into returns using the simple return definition. Also replacing the NaN in the first period by 0.\n",
    "df_m = monthly_return.pct_change().fillna(0)\n",
    "df_m.index = pd.to_datetime(df_m.index)\n",
    "\n",
    "df_y = yearly_return.pct_change().fillna(0)"
   ]
  },
  {
   "cell_type": "markdown",
   "metadata": {
    "scrolled": true
   },
   "source": [
    "### Part I - Standard Asset Allocation"
   ]
  },
  {
   "cell_type": "markdown",
   "metadata": {},
   "source": [
    "#### 1.1 - Construction of a minimum variance portfolio"
   ]
  },
  {
   "cell_type": "markdown",
   "metadata": {},
   "source": [
    "As we are computing the minimum variance portfolio out-of-sample, we use the first 6 years of monthly returns (from Jan. 2000 to Dec. 2005) to compute the vector of expected returns and the covariance matrix"
   ]
  },
  {
   "cell_type": "code",
   "execution_count": 3,
   "metadata": {},
   "outputs": [
    {
     "data": {
      "text/plain": [
       "True"
      ]
     },
     "execution_count": 3,
     "metadata": {},
     "output_type": "execute_result"
    }
   ],
   "source": [
    "## Sampling the dataframe from Jan. 2000 to Dec. 2005\n",
    "start = '2000-01-01'\n",
    "end = '2005-12-31'\n",
    "sample_m = df_m[df_m.index.isin(pd.date_range(start, end))]\n",
    "\n",
    "## Checking if tau is equal to 72\n",
    "tau = len(sample_m)\n",
    "tau == 72"
   ]
  },
  {
   "cell_type": "markdown",
   "metadata": {},
   "source": [
    "We computed the expected returns as:\n",
    "$$\n",
    "\\hat{\\mu}_{Y+1} = \\frac{1}{\\tau}\\sum_{k=0}^{\\tau-1} R_{t-k}\n",
    "$$"
   ]
  },
  {
   "cell_type": "code",
   "execution_count": 56,
   "metadata": {},
   "outputs": [],
   "source": [
    "mu_hat = pd.DataFrame(sample_m.apply(lambda r: sum(r)/tau, axis=0)).T"
   ]
  },
  {
   "cell_type": "markdown",
   "metadata": {},
   "source": [
    "The covariance matrix is computed as:\n",
    "$$\n",
    "\\Sigma_{Y+1} = \\frac{1}{\\tau}\\sum_{k=0}^{\\tau-1} (R_{t-k} - \\hat{\\mu}_{Y+1})'(R_{t-k} - \\hat{\\mu}_{Y+1})\n",
    "$$"
   ]
  },
  {
   "cell_type": "code",
   "execution_count": 77,
   "metadata": {},
   "outputs": [],
   "source": [
    "excess_returns = sample_m.subtract(mu_hat.values.squeeze(), axis=1)\n",
    "covmat = 1/tau * excess_returns.T @ excess_returns"
   ]
  },
  {
   "cell_type": "markdown",
   "metadata": {},
   "source": [
    "For the allocation, we use the following maximizazion problem, while restricting the optimal weights to be positive:\n",
    "\n",
    "$$\\min_{{{\\alpha_{Y}}}}\\quad \\sigma^{2}_{p,Y+1} = \\alpha'_{Y}\\Sigma_{Y+1}\\alpha_{Y}$$\n",
    "\n",
    "$$\\text{s.t.}\\quad \\alpha'_{Y}e = 1$$\n",
    "\n",
    "$$\\text{s.t.}\\quad  \\alpha_{i,Y} \\ge 0 \\quad \\text{for all i}$$"
   ]
  },
  {
   "cell_type": "code",
   "execution_count": null,
   "metadata": {},
   "outputs": [],
   "source": []
  }
 ],
 "metadata": {
  "kernelspec": {
   "display_name": "Python 3 (ipykernel)",
   "language": "python",
   "name": "python3"
  },
  "language_info": {
   "codemirror_mode": {
    "name": "ipython",
    "version": 3
   },
   "file_extension": ".py",
   "mimetype": "text/x-python",
   "name": "python",
   "nbconvert_exporter": "python",
   "pygments_lexer": "ipython3",
   "version": "3.12.1"
  }
 },
 "nbformat": 4,
 "nbformat_minor": 4
}
