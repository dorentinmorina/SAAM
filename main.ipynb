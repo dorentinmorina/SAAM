{
 "cells": [
  {
   "cell_type": "markdown",
   "metadata": {},
   "source": [
    "### Sustainability Aware Asset Management: **Group A (Minimum-Variance Portfolio)**\n",
    "#### **Part I - Standard Asset Allocation**"
   ]
  },
  {
   "cell_type": "code",
   "execution_count": 78,
   "metadata": {},
   "outputs": [],
   "source": [
    "## Packages lists:\n",
    "import pandas as pd\n",
    "import numpy as np\n",
    "import matplotlib.pyplot as plt\n",
    "import seaborn as sns\n",
    "import datetime as dt\n",
    "from scipy.optimize import minimize\n",
    "\n",
    "## Importing all the dataframes from data.ipynb\n",
    "%run data.ipynb"
   ]
  },
  {
   "cell_type": "code",
   "execution_count": 79,
   "metadata": {},
   "outputs": [],
   "source": [
    "## Converting into returns using the simple return definition. Also replacing the NaN in the first period by 0.\n",
    "df_m = monthly_return.pct_change().fillna(0)\n",
    "df_m.index = pd.to_datetime(df_m.index)\n",
    "\n",
    "df_y = yearly_return.pct_change().fillna(0)"
   ]
  },
  {
   "cell_type": "markdown",
   "metadata": {
    "scrolled": true
   },
   "source": [
    "### Part I - Standard Asset Allocation"
   ]
  },
  {
   "cell_type": "markdown",
   "metadata": {},
   "source": [
    "#### 1.1 - Construction of a minimum variance portfolio"
   ]
  },
  {
   "cell_type": "markdown",
   "metadata": {},
   "source": [
    "As we are computing the minimum variance portfolio out-of-sample, we use the first 6 years of monthly returns (from Jan. 2000 to Dec. 2005) to compute the vector of expected returns and the covariance matrix"
   ]
  },
  {
   "cell_type": "code",
   "execution_count": 80,
   "metadata": {},
   "outputs": [
    {
     "data": {
      "text/plain": [
       "True"
      ]
     },
     "execution_count": 80,
     "metadata": {},
     "output_type": "execute_result"
    }
   ],
   "source": [
    "## Sampling the dataframe from Jan. 2000 to Dec. 2005\n",
    "start = dt.datetime(2000, 1, 1)\n",
    "end = dt.datetime(2005, 12, 31)\n",
    "stocks = df_m.columns\n",
    "sample_m = df_m[df_m.index.isin(pd.date_range(start, end))]\n",
    "\n",
    "## Checking if tau is equal to 72\n",
    "tau = len(sample_m)\n",
    "tau == 72"
   ]
  },
  {
   "cell_type": "markdown",
   "metadata": {},
   "source": [
    "We computed the expected returns as:\n",
    "$$\n",
    "\\hat{\\mu}_{Y+1} = \\frac{1}{\\tau}\\sum_{k=0}^{\\tau-1} R_{t-k}\n",
    "$$"
   ]
  },
  {
   "cell_type": "code",
   "execution_count": 81,
   "metadata": {},
   "outputs": [],
   "source": [
    "## It is simply a basic mean function.\n",
    "mu_hat = pd.DataFrame(sample_m.mean(axis=0)).T"
   ]
  },
  {
   "cell_type": "markdown",
   "metadata": {},
   "source": [
    "The covariance matrix is computed as:\n",
    "$$\n",
    "\\Sigma_{Y+1} = \\frac{1}{\\tau}\\sum_{k=0}^{\\tau-1} (R_{t-k} - \\hat{\\mu}_{Y+1})'(R_{t-k} - \\hat{\\mu}_{Y+1})\n",
    "$$"
   ]
  },
  {
   "cell_type": "code",
   "execution_count": 83,
   "metadata": {},
   "outputs": [],
   "source": [
    "## We use the parameter bias=True, because we divide the sum by 1/tau instead of 1/(tau-1)\n",
    "excess_returns = sample_m.subtract(mu_hat.values.squeeze(), axis=1)\n",
    "covmat = 1/tau * excess_returns.T @ excess_returns\n",
    "## We convert it into a dataframe"
   ]
  },
  {
   "cell_type": "code",
   "execution_count": 84,
   "metadata": {},
   "outputs": [
    {
     "name": "stdout",
     "output_type": "stream",
     "text": [
      "True\n"
     ]
    }
   ],
   "source": [
    "## We can see that some values are missing in our covariance matrix, so we need to investigate.\n",
    "print(covmat.isnull().values.any())\n",
    "\n",
    "## After some investigations, we can see that the following stocks are causing problems.\n",
    "## Their TRI are very small, thus these stocks are insignificant, and removing them isn't that much of a problem.\n",
    "stocktodrop = ['ICT.TUNGGAL PRAKARSA', 'ASTRA AGRO LESTARI',\n",
    "               'BANK PAN INDONESIA', 'BANK NEGARA INDONESIA',\n",
    "               'GLOBAL MEDIACOM', 'LIPPO KARAWACI',\n",
    "               'ASTRA INTERNATIONAL', 'SK HYNIX', 'HYUNDAI ENGR.& CON.']\n",
    "\n",
    "## "
   ]
  },
  {
   "cell_type": "code",
   "execution_count": 85,
   "metadata": {},
   "outputs": [
    {
     "name": "stdout",
     "output_type": "stream",
     "text": [
      "False\n"
     ]
    }
   ],
   "source": [
    "## We run again the previous codes, after dropping the problematic stocks.\n",
    "\n",
    "## Importing the original data, removing the stocks, then calculating the returns\n",
    "df_m = monthly_return.drop(stocktodrop, axis=1)\n",
    "df_m.index = pd.to_datetime(df_m.index)\n",
    "df_m = df_m.pct_change().fillna(0)\n",
    "stocks = df_m.columns\n",
    "\n",
    "## Sampling the dataframe from Jan. 2000 to Dec. 2005\n",
    "sample_m = df_m[df_m.index.isin(pd.date_range(start, end))]\n",
    "\n",
    "## Calculating the expected returns, then the excess_returns\n",
    "mu_hat = pd.DataFrame(sample_m.mean(axis=0)).T\n",
    "excess_returns = sample_m.subtract(mu_hat.values.squeeze(), axis=1)\n",
    "\n",
    "## Calculating the covariance matrix\n",
    "covmat = 1/tau * excess_returns.T @ excess_returns\n",
    "\n",
    "## Control if there are any missing values.\n",
    "print(covmat.isnull().values.any())"
   ]
  },
  {
   "cell_type": "markdown",
   "metadata": {},
   "source": [
    "For the allocation, we use the following maximizazion problem, while restricting the optimal weights to be positive:\n",
    "\n",
    "$$\\min_{{{\\alpha_{Y}}}}\\quad \\sigma^{2}_{p,Y+1} = \\alpha'_{Y}\\Sigma_{Y+1}\\alpha_{Y}$$\n",
    "\n",
    "$$\\text{s.t.}\\quad \\alpha'_{Y}e = 1$$\n",
    "\n",
    "$$\\text{s.t.}\\quad  \\alpha_{i,Y} \\ge 0 \\quad \\text{for all i}$$"
   ]
  },
  {
   "cell_type": "code",
   "execution_count": 8,
   "metadata": {},
   "outputs": [
    {
     "name": "stdout",
     "output_type": "stream",
     "text": [
      "[0.00000000e+00 5.53090005e-03 2.07991957e-18 ... 0.00000000e+00\n",
      " 0.00000000e+00 9.45540327e-22]\n"
     ]
    }
   ],
   "source": [
    "# Define objective function (portfolio variance)\n",
    "def portfolio_variance(weights, covmat):\n",
    "    return np.dot(weights.T, np.dot(covmat, weights))\n",
    "\n",
    "# Define constraint (sum of weights equals 1)\n",
    "def constraint(weights):\n",
    "    return np.sum(weights) - 1\n",
    "    \n",
    "# Number of assets\n",
    "n_assets = len(covmat)\n",
    "\n",
    "# Initial guess for weights\n",
    "initial_weights = np.ones(n_assets) / n_assets\n",
    "\n",
    "# Define bounds for weights (0 to 1) long-only portfolio\n",
    "bounds = [(0, None)] * n_assets\n",
    "\n",
    "# Perform optimization\n",
    "result = minimize(portfolio_variance, initial_weights, args=(covmat,), constraints={'type': 'eq', 'fun': constraint}, bounds=bounds)\n",
    "\n",
    "# Get optimal weights\n",
    "optimal_weights = result.x\n",
    "\n",
    "# Print results\n",
    "print(optimal_weights)"
   ]
  },
  {
   "cell_type": "code",
   "execution_count": 95,
   "metadata": {},
   "outputs": [
    {
     "data": {
      "text/html": [
       "<div>\n",
       "<style scoped>\n",
       "    .dataframe tbody tr th:only-of-type {\n",
       "        vertical-align: middle;\n",
       "    }\n",
       "\n",
       "    .dataframe tbody tr th {\n",
       "        vertical-align: top;\n",
       "    }\n",
       "\n",
       "    .dataframe thead th {\n",
       "        text-align: right;\n",
       "    }\n",
       "</style>\n",
       "<table border=\"1\" class=\"dataframe\">\n",
       "  <thead>\n",
       "    <tr style=\"text-align: right;\">\n",
       "      <th></th>\n",
       "      <th>weight</th>\n",
       "    </tr>\n",
       "  </thead>\n",
       "  <tbody>\n",
       "    <tr>\n",
       "      <th>SCHLUMBERGER</th>\n",
       "      <td>0.000000e+00</td>\n",
       "    </tr>\n",
       "    <tr>\n",
       "      <th>ALUAR</th>\n",
       "      <td>5.530900e-03</td>\n",
       "    </tr>\n",
       "    <tr>\n",
       "      <th>BBVA BANCO FRANCES</th>\n",
       "      <td>2.079920e-18</td>\n",
       "    </tr>\n",
       "    <tr>\n",
       "      <th>TERNIUM ARGENTINA SOCIEDAD ANONIMA</th>\n",
       "      <td>1.891144e-05</td>\n",
       "    </tr>\n",
       "    <tr>\n",
       "      <th>FLUGHAFEN WIEN</th>\n",
       "      <td>5.030383e-18</td>\n",
       "    </tr>\n",
       "    <tr>\n",
       "      <th>...</th>\n",
       "      <td>...</td>\n",
       "    </tr>\n",
       "    <tr>\n",
       "      <th>ALTRON LIMITED A</th>\n",
       "      <td>0.000000e+00</td>\n",
       "    </tr>\n",
       "    <tr>\n",
       "      <th>ABSA GROUP</th>\n",
       "      <td>0.000000e+00</td>\n",
       "    </tr>\n",
       "    <tr>\n",
       "      <th>NORTHAM PLATINUM HLDGS</th>\n",
       "      <td>0.000000e+00</td>\n",
       "    </tr>\n",
       "    <tr>\n",
       "      <th>AVENG</th>\n",
       "      <td>0.000000e+00</td>\n",
       "    </tr>\n",
       "    <tr>\n",
       "      <th>NAMPAK</th>\n",
       "      <td>9.455403e-22</td>\n",
       "    </tr>\n",
       "  </tbody>\n",
       "</table>\n",
       "<p>2042 rows × 1 columns</p>\n",
       "</div>"
      ],
      "text/plain": [
       "                                          weight\n",
       "SCHLUMBERGER                        0.000000e+00\n",
       "ALUAR                               5.530900e-03\n",
       "BBVA BANCO FRANCES                  2.079920e-18\n",
       "TERNIUM ARGENTINA SOCIEDAD ANONIMA  1.891144e-05\n",
       "FLUGHAFEN WIEN                      5.030383e-18\n",
       "...                                          ...\n",
       "ALTRON LIMITED A                    0.000000e+00\n",
       "ABSA GROUP                          0.000000e+00\n",
       "NORTHAM PLATINUM HLDGS              0.000000e+00\n",
       "AVENG                               0.000000e+00\n",
       "NAMPAK                              9.455403e-22\n",
       "\n",
       "[2042 rows x 1 columns]"
      ]
     },
     "execution_count": 95,
     "metadata": {},
     "output_type": "execute_result"
    }
   ],
   "source": [
    "weights = pd.read_csv('Data/firstweight.csv', index_col=0)\n",
    "weights"
   ]
  },
  {
   "cell_type": "code",
   "execution_count": 96,
   "metadata": {},
   "outputs": [
    {
     "data": {
      "text/plain": [
       "weight    1.0\n",
       "dtype: float64"
      ]
     },
     "execution_count": 96,
     "metadata": {},
     "output_type": "execute_result"
    }
   ],
   "source": [
    "weights.sum(axis=0)"
   ]
  }
 ],
 "metadata": {
  "kernelspec": {
   "display_name": "Python 3 (ipykernel)",
   "language": "python",
   "name": "python3"
  },
  "language_info": {
   "codemirror_mode": {
    "name": "ipython",
    "version": 3
   },
   "file_extension": ".py",
   "mimetype": "text/x-python",
   "name": "python",
   "nbconvert_exporter": "python",
   "pygments_lexer": "ipython3",
   "version": "3.12.2"
  }
 },
 "nbformat": 4,
 "nbformat_minor": 4
}
