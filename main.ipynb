{
 "cells": [
  {
   "cell_type": "markdown",
   "metadata": {},
   "source": [
    "### Sustainability Aware Asset Management: **Groupe A: North America // Scope 1 + 2**\n",
    "#### **Part I - Standard Asset Allocation**"
   ]
  },
  {
   "cell_type": "code",
   "execution_count": 64,
   "metadata": {},
   "outputs": [],
   "source": [
    "## Packages lists:\n",
    "import pandas as pd\n",
    "import numpy as np\n",
    "import matplotlib.pyplot as plt\n",
    "import seaborn as sns\n",
    "import datetime as dt\n",
    "from scipy.optimize import minimize\n",
    "\n",
    "## Importing all the dataframes from data.ipynb\n",
    "%run data.ipynb"
   ]
  },
  {
   "cell_type": "code",
   "execution_count": 65,
   "metadata": {},
   "outputs": [],
   "source": [
    "## Converting into returns using the simple return definition. Also replacing the NaN in the first period by 0.\n",
    "df_m = monthly_return.pct_change().fillna(0)\n",
    "df_m.index = pd.to_datetime(df_m.index)\n",
    "\n",
    "df_y = yearly_return.pct_change().fillna(0)"
   ]
  },
  {
   "cell_type": "markdown",
   "metadata": {
    "scrolled": true
   },
   "source": [
    "### Part I - Standard Asset Allocation"
   ]
  },
  {
   "cell_type": "markdown",
   "metadata": {},
   "source": [
    "#### 1.1 - Construction of a minimum variance portfolio"
   ]
  },
  {
   "cell_type": "markdown",
   "metadata": {},
   "source": [
    "As we are computing the minimum variance portfolio out-of-sample, we use the first 6 years of monthly returns (from Jan. 2000 to Dec. 2005) to compute the vector of expected returns and the covariance matrix"
   ]
  },
  {
   "cell_type": "code",
   "execution_count": 3,
   "metadata": {},
   "outputs": [
    {
     "data": {
      "text/plain": [
       "True"
      ]
     },
     "execution_count": 3,
     "metadata": {},
     "output_type": "execute_result"
    }
   ],
   "source": [
    "## Sampling the dataframe from Jan. 2000 to Dec. 2005\n",
    "start = dt.datetime(2000, 1, 1)\n",
    "end = dt.datetime(2005, 12, 31)\n",
    "stocks = df_m.columns\n",
    "sample_m = df_m[df_m.index.isin(pd.date_range(start, end))]\n",
    "\n",
    "## Checking if tau is equal to 72\n",
    "tau = len(sample_m)\n",
    "tau == 72"
   ]
  },
  {
   "cell_type": "markdown",
   "metadata": {},
   "source": [
    "We computed the expected returns as:\n",
    "$$\n",
    "\\hat{\\mu}_{Y+1} = \\frac{1}{\\tau}\\sum_{k=0}^{\\tau-1} R_{t-k}\n",
    "$$"
   ]
  },
  {
   "cell_type": "code",
   "execution_count": 4,
   "metadata": {},
   "outputs": [],
   "source": [
    "## It is simply a basic mean function.\n",
    "mu_hat = pd.DataFrame(sample_m.mean(axis=0)).T"
   ]
  },
  {
   "cell_type": "markdown",
   "metadata": {},
   "source": [
    "The covariance matrix is computed as:\n",
    "$$\n",
    "\\Sigma_{Y+1} = \\frac{1}{\\tau}\\sum_{k=0}^{\\tau-1} (R_{t-k} - \\hat{\\mu}_{Y+1})'(R_{t-k} - \\hat{\\mu}_{Y+1})\n",
    "$$"
   ]
  },
  {
   "cell_type": "code",
   "execution_count": 5,
   "metadata": {},
   "outputs": [
    {
     "name": "stdout",
     "output_type": "stream",
     "text": [
      "False\n"
     ]
    }
   ],
   "source": [
    "## We use the parameter bias=True, because we divide the sum by 1/tau instead of 1/(tau-1)\n",
    "excess_returns = sample_m.subtract(mu_hat.values.squeeze(), axis=1)\n",
    "covmat = 1/tau * excess_returns.T @ excess_returns\n",
    "\n",
    "## We control if there is a missing value in our covariance matrix\n",
    "print(covmat.isnull().values.any())"
   ]
  },
  {
   "cell_type": "markdown",
   "metadata": {},
   "source": [
    "For the allocation, we use the following maximizazion problem, while restricting the optimal weights to be positive:\n",
    "\n",
    "$$\\min_{{{\\alpha_{Y}}}}\\quad \\sigma^{2}_{p,Y+1} = \\alpha'_{Y}\\Sigma_{Y+1}\\alpha_{Y}$$\n",
    "\n",
    "$$\\text{s.t.}\\quad \\alpha'_{Y}e = 1$$\n",
    "\n",
    "$$\\text{s.t.}\\quad  \\alpha_{i,Y} \\ge 0 \\quad \\text{for all i}$$"
   ]
  },
  {
   "cell_type": "code",
   "execution_count": 6,
   "metadata": {},
   "outputs": [
    {
     "data": {
      "text/html": [
       "<div>\n",
       "<style scoped>\n",
       "    .dataframe tbody tr th:only-of-type {\n",
       "        vertical-align: middle;\n",
       "    }\n",
       "\n",
       "    .dataframe tbody tr th {\n",
       "        vertical-align: top;\n",
       "    }\n",
       "\n",
       "    .dataframe thead th {\n",
       "        text-align: right;\n",
       "    }\n",
       "</style>\n",
       "<table border=\"1\" class=\"dataframe\">\n",
       "  <thead>\n",
       "    <tr style=\"text-align: right;\">\n",
       "      <th></th>\n",
       "      <th>weight</th>\n",
       "    </tr>\n",
       "  </thead>\n",
       "  <tbody>\n",
       "    <tr>\n",
       "      <th>SCHLUMBERGER</th>\n",
       "      <td>9.264636e-19</td>\n",
       "    </tr>\n",
       "    <tr>\n",
       "      <th>ARCH CAP.GP.</th>\n",
       "      <td>0.000000e+00</td>\n",
       "    </tr>\n",
       "    <tr>\n",
       "      <th>EVEREST GROUP</th>\n",
       "      <td>0.000000e+00</td>\n",
       "    </tr>\n",
       "    <tr>\n",
       "      <th>NABORS INDUSTRIES</th>\n",
       "      <td>0.000000e+00</td>\n",
       "    </tr>\n",
       "    <tr>\n",
       "      <th>RENAISSANCERE HDG.</th>\n",
       "      <td>1.160498e-02</td>\n",
       "    </tr>\n",
       "    <tr>\n",
       "      <th>...</th>\n",
       "      <td>...</td>\n",
       "    </tr>\n",
       "    <tr>\n",
       "      <th>XCEL ENERGY</th>\n",
       "      <td>0.000000e+00</td>\n",
       "    </tr>\n",
       "    <tr>\n",
       "      <th>XEROX HOLDINGS</th>\n",
       "      <td>3.395384e-20</td>\n",
       "    </tr>\n",
       "    <tr>\n",
       "      <th>YUM! BRANDS</th>\n",
       "      <td>3.882752e-04</td>\n",
       "    </tr>\n",
       "    <tr>\n",
       "      <th>ZEBRA TECHNOLOGIES 'A'</th>\n",
       "      <td>2.882714e-03</td>\n",
       "    </tr>\n",
       "    <tr>\n",
       "      <th>ZIONS BANCORP.</th>\n",
       "      <td>0.000000e+00</td>\n",
       "    </tr>\n",
       "  </tbody>\n",
       "</table>\n",
       "<p>595 rows × 1 columns</p>\n",
       "</div>"
      ],
      "text/plain": [
       "                              weight\n",
       "SCHLUMBERGER            9.264636e-19\n",
       "ARCH CAP.GP.            0.000000e+00\n",
       "EVEREST GROUP           0.000000e+00\n",
       "NABORS INDUSTRIES       0.000000e+00\n",
       "RENAISSANCERE HDG.      1.160498e-02\n",
       "...                              ...\n",
       "XCEL ENERGY             0.000000e+00\n",
       "XEROX HOLDINGS          3.395384e-20\n",
       "YUM! BRANDS             3.882752e-04\n",
       "ZEBRA TECHNOLOGIES 'A'  2.882714e-03\n",
       "ZIONS BANCORP.          0.000000e+00\n",
       "\n",
       "[595 rows x 1 columns]"
      ]
     },
     "execution_count": 6,
     "metadata": {},
     "output_type": "execute_result"
    }
   ],
   "source": [
    "# Define objective function (portfolio variance)\n",
    "def portfolio_variance(weights, covmat):\n",
    "    return np.dot(weights.T, np.dot(covmat, weights))\n",
    "\n",
    "# Define constraint (sum of weights equals 1)\n",
    "def constraint(weights):\n",
    "    return np.sum(weights) - 1\n",
    "    \n",
    "# Number of assets\n",
    "n_assets = len(covmat)\n",
    "\n",
    "# Initial guess for weights\n",
    "initial_weights = np.ones(n_assets) / n_assets\n",
    "\n",
    "# Define bounds for weights (0 to 1) long-only portfolio\n",
    "bounds = [(0, None)] * n_assets\n",
    "\n",
    "# Perform optimization\n",
    "result = minimize(portfolio_variance, initial_weights, args=(covmat,), constraints={'type': 'eq', 'fun': constraint}, bounds=bounds)\n",
    "\n",
    "# Get optimal weights\n",
    "optimal_weights = result.x\n",
    "\n",
    "# Print results\n",
    "weights = pd.DataFrame(optimal_weights, index=covmat.index, columns=['weight'])\n",
    "weights"
   ]
  },
  {
   "cell_type": "code",
   "execution_count": 7,
   "metadata": {},
   "outputs": [],
   "source": [
    "## Rebalance portfolio from Dec. 2005 to Dec. 2021"
   ]
  },
  {
   "cell_type": "code",
   "execution_count": 8,
   "metadata": {},
   "outputs": [],
   "source": [
    "def roll_min_var_opt(df, start, end):\n",
    "    stocks = df.columns\n",
    "    year_weight = end.year + 1\n",
    "    weights_df = pd.DataFrame(index=stocks)\n",
    "\n",
    "    for i in range(17):\n",
    "        ## Resample from start to end\n",
    "        sample_m = df[df.index.isin(pd.date_range(start, end))]\n",
    "        tau = len(sample_m)\n",
    "\n",
    "        ## Compute expected returns\n",
    "        mu_hat = pd.DataFrame(sample_m.mean(axis=0)).T\n",
    "    \n",
    "        ## Excess returns\n",
    "        excess_returns = sample_m.subtract(mu_hat.values.squeeze(), axis=1)\n",
    "    \n",
    "        ## Covariance Matrix\n",
    "        covmat = 1/tau * excess_returns.T @ excess_returns\n",
    "    \n",
    "        # Define objective function (portfolio variance)\n",
    "        def portfolio_variance(weights, covmat):\n",
    "            return np.dot(weights.T, np.dot(covmat, weights))\n",
    "    \n",
    "        # Define constraint (sum of weights equals 1)\n",
    "        def constraint(weights):\n",
    "            return np.sum(weights) - 1\n",
    "    \n",
    "        n_assets = len(covmat)\n",
    "    \n",
    "        # Initial guess for weights\n",
    "        initial_weights = np.ones(n_assets) / n_assets\n",
    "        \n",
    "        # Define bounds for weights (0 to 1) long-only portfolio\n",
    "        bounds = [(0, None)] * n_assets\n",
    "    \n",
    "        result = minimize(portfolio_variance, initial_weights, args=(covmat,), constraints={'type': 'eq', 'fun': constraint}, bounds=bounds)\n",
    "    \n",
    "        optimal_weights = result.x\n",
    "\n",
    "        weights_df[year_weight] = optimal_weights\n",
    "\n",
    "        start = dt.datetime(start.year + 1, 1, 1)\n",
    "        end = dt.datetime(end.year + 1, 1, 1)\n",
    "        year_weight += 1\n",
    "\n",
    "    return weights_df"
   ]
  },
  {
   "cell_type": "code",
   "execution_count": 9,
   "metadata": {},
   "outputs": [],
   "source": [
    "start = dt.datetime(2000, 1, 1)\n",
    "end = dt.datetime(2005, 12, 31)\n",
    "\n",
    "weights_df = roll_min_var_opt(df_m, start, end)"
   ]
  },
  {
   "cell_type": "code",
   "execution_count": 10,
   "metadata": {},
   "outputs": [
    {
     "data": {
      "text/html": [
       "<div>\n",
       "<style scoped>\n",
       "    .dataframe tbody tr th:only-of-type {\n",
       "        vertical-align: middle;\n",
       "    }\n",
       "\n",
       "    .dataframe tbody tr th {\n",
       "        vertical-align: top;\n",
       "    }\n",
       "\n",
       "    .dataframe thead th {\n",
       "        text-align: right;\n",
       "    }\n",
       "</style>\n",
       "<table border=\"1\" class=\"dataframe\">\n",
       "  <thead>\n",
       "    <tr style=\"text-align: right;\">\n",
       "      <th></th>\n",
       "      <th>2006</th>\n",
       "      <th>2007</th>\n",
       "      <th>2008</th>\n",
       "      <th>2009</th>\n",
       "      <th>2010</th>\n",
       "      <th>2011</th>\n",
       "      <th>2012</th>\n",
       "      <th>2013</th>\n",
       "      <th>2014</th>\n",
       "      <th>2015</th>\n",
       "      <th>2016</th>\n",
       "      <th>2017</th>\n",
       "      <th>2018</th>\n",
       "      <th>2019</th>\n",
       "      <th>2020</th>\n",
       "      <th>2021</th>\n",
       "      <th>2022</th>\n",
       "    </tr>\n",
       "  </thead>\n",
       "  <tbody>\n",
       "    <tr>\n",
       "      <th>SCHLUMBERGER</th>\n",
       "      <td>9.264636e-19</td>\n",
       "      <td>1.318005e-18</td>\n",
       "      <td>1.905927e-18</td>\n",
       "      <td>2.382410e-18</td>\n",
       "      <td>0.000000e+00</td>\n",
       "      <td>1.777599e-17</td>\n",
       "      <td>1.166476e-17</td>\n",
       "      <td>2.496742e-18</td>\n",
       "      <td>0.000000e+00</td>\n",
       "      <td>9.865088e-18</td>\n",
       "      <td>2.562393e-18</td>\n",
       "      <td>6.348615e-18</td>\n",
       "      <td>6.378464e-18</td>\n",
       "      <td>6.579235e-18</td>\n",
       "      <td>0.000000</td>\n",
       "      <td>0.000000</td>\n",
       "      <td>8.912802e-19</td>\n",
       "    </tr>\n",
       "    <tr>\n",
       "      <th>ARCH CAP.GP.</th>\n",
       "      <td>0.000000e+00</td>\n",
       "      <td>1.181806e-18</td>\n",
       "      <td>0.000000e+00</td>\n",
       "      <td>0.000000e+00</td>\n",
       "      <td>0.000000e+00</td>\n",
       "      <td>1.981405e-18</td>\n",
       "      <td>1.014346e-02</td>\n",
       "      <td>0.000000e+00</td>\n",
       "      <td>1.055162e-17</td>\n",
       "      <td>0.000000e+00</td>\n",
       "      <td>0.000000e+00</td>\n",
       "      <td>1.930964e-18</td>\n",
       "      <td>6.190552e-18</td>\n",
       "      <td>1.013297e-03</td>\n",
       "      <td>0.001145</td>\n",
       "      <td>0.000000</td>\n",
       "      <td>0.000000e+00</td>\n",
       "    </tr>\n",
       "    <tr>\n",
       "      <th>EVEREST GROUP</th>\n",
       "      <td>0.000000e+00</td>\n",
       "      <td>0.000000e+00</td>\n",
       "      <td>0.000000e+00</td>\n",
       "      <td>0.000000e+00</td>\n",
       "      <td>5.798379e-19</td>\n",
       "      <td>0.000000e+00</td>\n",
       "      <td>2.076408e-04</td>\n",
       "      <td>8.780328e-19</td>\n",
       "      <td>1.205158e-18</td>\n",
       "      <td>3.121960e-03</td>\n",
       "      <td>0.000000e+00</td>\n",
       "      <td>2.192348e-18</td>\n",
       "      <td>9.010329e-03</td>\n",
       "      <td>2.661669e-03</td>\n",
       "      <td>0.044626</td>\n",
       "      <td>0.067024</td>\n",
       "      <td>2.534687e-02</td>\n",
       "    </tr>\n",
       "    <tr>\n",
       "      <th>NABORS INDUSTRIES</th>\n",
       "      <td>0.000000e+00</td>\n",
       "      <td>6.262720e-18</td>\n",
       "      <td>0.000000e+00</td>\n",
       "      <td>0.000000e+00</td>\n",
       "      <td>1.919460e-18</td>\n",
       "      <td>3.527139e-18</td>\n",
       "      <td>3.869747e-18</td>\n",
       "      <td>0.000000e+00</td>\n",
       "      <td>0.000000e+00</td>\n",
       "      <td>0.000000e+00</td>\n",
       "      <td>0.000000e+00</td>\n",
       "      <td>0.000000e+00</td>\n",
       "      <td>0.000000e+00</td>\n",
       "      <td>0.000000e+00</td>\n",
       "      <td>0.000000</td>\n",
       "      <td>0.000000</td>\n",
       "      <td>2.537288e-18</td>\n",
       "    </tr>\n",
       "    <tr>\n",
       "      <th>RENAISSANCERE HDG.</th>\n",
       "      <td>1.160498e-02</td>\n",
       "      <td>1.824573e-02</td>\n",
       "      <td>2.294535e-02</td>\n",
       "      <td>0.000000e+00</td>\n",
       "      <td>2.026127e-18</td>\n",
       "      <td>0.000000e+00</td>\n",
       "      <td>5.166867e-18</td>\n",
       "      <td>0.000000e+00</td>\n",
       "      <td>0.000000e+00</td>\n",
       "      <td>3.260270e-02</td>\n",
       "      <td>1.938555e-02</td>\n",
       "      <td>3.693503e-03</td>\n",
       "      <td>9.341518e-03</td>\n",
       "      <td>3.801113e-03</td>\n",
       "      <td>0.012310</td>\n",
       "      <td>0.030824</td>\n",
       "      <td>3.846325e-03</td>\n",
       "    </tr>\n",
       "  </tbody>\n",
       "</table>\n",
       "</div>"
      ],
      "text/plain": [
       "                            2006          2007          2008          2009  \\\n",
       "SCHLUMBERGER        9.264636e-19  1.318005e-18  1.905927e-18  2.382410e-18   \n",
       "ARCH CAP.GP.        0.000000e+00  1.181806e-18  0.000000e+00  0.000000e+00   \n",
       "EVEREST GROUP       0.000000e+00  0.000000e+00  0.000000e+00  0.000000e+00   \n",
       "NABORS INDUSTRIES   0.000000e+00  6.262720e-18  0.000000e+00  0.000000e+00   \n",
       "RENAISSANCERE HDG.  1.160498e-02  1.824573e-02  2.294535e-02  0.000000e+00   \n",
       "\n",
       "                            2010          2011          2012          2013  \\\n",
       "SCHLUMBERGER        0.000000e+00  1.777599e-17  1.166476e-17  2.496742e-18   \n",
       "ARCH CAP.GP.        0.000000e+00  1.981405e-18  1.014346e-02  0.000000e+00   \n",
       "EVEREST GROUP       5.798379e-19  0.000000e+00  2.076408e-04  8.780328e-19   \n",
       "NABORS INDUSTRIES   1.919460e-18  3.527139e-18  3.869747e-18  0.000000e+00   \n",
       "RENAISSANCERE HDG.  2.026127e-18  0.000000e+00  5.166867e-18  0.000000e+00   \n",
       "\n",
       "                            2014          2015          2016          2017  \\\n",
       "SCHLUMBERGER        0.000000e+00  9.865088e-18  2.562393e-18  6.348615e-18   \n",
       "ARCH CAP.GP.        1.055162e-17  0.000000e+00  0.000000e+00  1.930964e-18   \n",
       "EVEREST GROUP       1.205158e-18  3.121960e-03  0.000000e+00  2.192348e-18   \n",
       "NABORS INDUSTRIES   0.000000e+00  0.000000e+00  0.000000e+00  0.000000e+00   \n",
       "RENAISSANCERE HDG.  0.000000e+00  3.260270e-02  1.938555e-02  3.693503e-03   \n",
       "\n",
       "                            2018          2019      2020      2021  \\\n",
       "SCHLUMBERGER        6.378464e-18  6.579235e-18  0.000000  0.000000   \n",
       "ARCH CAP.GP.        6.190552e-18  1.013297e-03  0.001145  0.000000   \n",
       "EVEREST GROUP       9.010329e-03  2.661669e-03  0.044626  0.067024   \n",
       "NABORS INDUSTRIES   0.000000e+00  0.000000e+00  0.000000  0.000000   \n",
       "RENAISSANCERE HDG.  9.341518e-03  3.801113e-03  0.012310  0.030824   \n",
       "\n",
       "                            2022  \n",
       "SCHLUMBERGER        8.912802e-19  \n",
       "ARCH CAP.GP.        0.000000e+00  \n",
       "EVEREST GROUP       2.534687e-02  \n",
       "NABORS INDUSTRIES   2.537288e-18  \n",
       "RENAISSANCERE HDG.  3.846325e-03  "
      ]
     },
     "execution_count": 10,
     "metadata": {},
     "output_type": "execute_result"
    }
   ],
   "source": [
    "weights_df.head()"
   ]
  },
  {
   "cell_type": "code",
   "execution_count": 11,
   "metadata": {},
   "outputs": [
    {
     "data": {
      "text/plain": [
       "2006    1.0\n",
       "2007    1.0\n",
       "2008    1.0\n",
       "2009    1.0\n",
       "2010    1.0\n",
       "2011    1.0\n",
       "2012    1.0\n",
       "2013    1.0\n",
       "2014    1.0\n",
       "2015    1.0\n",
       "2016    1.0\n",
       "2017    1.0\n",
       "2018    1.0\n",
       "2019    1.0\n",
       "2020    1.0\n",
       "2021    1.0\n",
       "2022    1.0\n",
       "dtype: float64"
      ]
     },
     "execution_count": 11,
     "metadata": {},
     "output_type": "execute_result"
    }
   ],
   "source": [
    "## Checking if the first constraint is respected.\n",
    "weights_df.sum()"
   ]
  },
  {
   "cell_type": "code",
   "execution_count": 12,
   "metadata": {},
   "outputs": [
    {
     "name": "stdout",
     "output_type": "stream",
     "text": [
      "The smallest weight is:  0.0\n",
      "The highest weight is:  0.15300345761854592\n"
     ]
    }
   ],
   "source": [
    "## Checking if the second constraint is respected.\n",
    "print('The smallest weight is: ', np.min(weights_df))\n",
    "print('The highest weight is: ', np.max(weights_df))"
   ]
  },
  {
   "cell_type": "code",
   "execution_count": 88,
   "metadata": {},
   "outputs": [
    {
     "data": {
      "text/plain": [
       "SCHLUMBERGER              9.264636e-19\n",
       "ARCH CAP.GP.              0.000000e+00\n",
       "EVEREST GROUP             0.000000e+00\n",
       "NABORS INDUSTRIES         0.000000e+00\n",
       "RENAISSANCERE HDG.        1.160498e-02\n",
       "                              ...     \n",
       "XCEL ENERGY               0.000000e+00\n",
       "XEROX HOLDINGS            3.395384e-20\n",
       "YUM! BRANDS               3.882752e-04\n",
       "ZEBRA TECHNOLOGIES 'A'    2.882714e-03\n",
       "ZIONS BANCORP.            0.000000e+00\n",
       "Name: 2006, Length: 595, dtype: float64"
      ]
     },
     "execution_count": 88,
     "metadata": {},
     "output_type": "execute_result"
    }
   ],
   "source": [
    "weights_df[2006].T"
   ]
  },
  {
   "cell_type": "code",
   "execution_count": 92,
   "metadata": {},
   "outputs": [],
   "source": [
    "## Testing to Compute the ex-post performance of the portfolio for january 2007\n",
    "df_jan07 = df_m.loc['2007-01-31']\n",
    "expost_returns_jan07 = weights_df[2006].T.dot(df_jan07)"
   ]
  },
  {
   "cell_type": "code",
   "execution_count": 81,
   "metadata": {},
   "outputs": [
    {
     "name": "stderr",
     "output_type": "stream",
     "text": [
      "/var/folders/cv/6mdsb4ks2nq321vt7d4wvhdr0000gn/T/ipykernel_83034/2435563949.py:5: FutureWarning: 'M' is deprecated and will be removed in a future version, please use 'ME' instead.\n",
      "  for date in pd.date_range(start='2007-01-31', end='2007-12-31', freq='M'):\n"
     ]
    }
   ],
   "source": [
    "## Empty DataFrame to store ex-post returns\n",
    "df_expost = pd.DataFrame()\n",
    "\n",
    "## Iterate over each month in 2007\n",
    "for date in pd.date_range(start='2007-01-31', end='2007-12-31', freq='M'):\n",
    "    ## Extract the row for the current date from df_m\n",
    "    monthly_returns = df_m.loc[date.strftime('%Y-%m-%d')]\n",
    "\n",
    "    ## Calculate the dot product of the weights and the returns\n",
    "    ex_post_return = weights_df[2006].dot(monthly_returns)\n",
    "    \n",
    "    ## Add the result to the df_expost DataFrame\n",
    "    df_expost = pd.concat([df_expost, pd.DataFrame([ex_post_return])], ignore_index=True)\n"
   ]
  },
  {
   "cell_type": "code",
   "execution_count": 82,
   "metadata": {},
   "outputs": [
    {
     "data": {
      "text/html": [
       "<div>\n",
       "<style scoped>\n",
       "    .dataframe tbody tr th:only-of-type {\n",
       "        vertical-align: middle;\n",
       "    }\n",
       "\n",
       "    .dataframe tbody tr th {\n",
       "        vertical-align: top;\n",
       "    }\n",
       "\n",
       "    .dataframe thead th {\n",
       "        text-align: right;\n",
       "    }\n",
       "</style>\n",
       "<table border=\"1\" class=\"dataframe\">\n",
       "  <thead>\n",
       "    <tr style=\"text-align: right;\">\n",
       "      <th></th>\n",
       "      <th>0</th>\n",
       "    </tr>\n",
       "  </thead>\n",
       "  <tbody>\n",
       "    <tr>\n",
       "      <th>0</th>\n",
       "      <td>0.027630</td>\n",
       "    </tr>\n",
       "    <tr>\n",
       "      <th>1</th>\n",
       "      <td>-0.018721</td>\n",
       "    </tr>\n",
       "    <tr>\n",
       "      <th>2</th>\n",
       "      <td>0.014429</td>\n",
       "    </tr>\n",
       "    <tr>\n",
       "      <th>3</th>\n",
       "      <td>0.042573</td>\n",
       "    </tr>\n",
       "    <tr>\n",
       "      <th>4</th>\n",
       "      <td>0.016877</td>\n",
       "    </tr>\n",
       "    <tr>\n",
       "      <th>5</th>\n",
       "      <td>-0.017716</td>\n",
       "    </tr>\n",
       "    <tr>\n",
       "      <th>6</th>\n",
       "      <td>-0.019788</td>\n",
       "    </tr>\n",
       "    <tr>\n",
       "      <th>7</th>\n",
       "      <td>0.037963</td>\n",
       "    </tr>\n",
       "    <tr>\n",
       "      <th>8</th>\n",
       "      <td>0.046988</td>\n",
       "    </tr>\n",
       "    <tr>\n",
       "      <th>9</th>\n",
       "      <td>0.031572</td>\n",
       "    </tr>\n",
       "    <tr>\n",
       "      <th>10</th>\n",
       "      <td>-0.028507</td>\n",
       "    </tr>\n",
       "    <tr>\n",
       "      <th>11</th>\n",
       "      <td>0.005401</td>\n",
       "    </tr>\n",
       "  </tbody>\n",
       "</table>\n",
       "</div>"
      ],
      "text/plain": [
       "           0\n",
       "0   0.027630\n",
       "1  -0.018721\n",
       "2   0.014429\n",
       "3   0.042573\n",
       "4   0.016877\n",
       "5  -0.017716\n",
       "6  -0.019788\n",
       "7   0.037963\n",
       "8   0.046988\n",
       "9   0.031572\n",
       "10 -0.028507\n",
       "11  0.005401"
      ]
     },
     "execution_count": 82,
     "metadata": {},
     "output_type": "execute_result"
    }
   ],
   "source": [
    "## Corresponds to df_jan07, next years have to readjust weights with formula \n",
    "df_expost"
   ]
  }
 ],
 "metadata": {
  "kernelspec": {
   "display_name": "Python 3 (ipykernel)",
   "language": "python",
   "name": "python3"
  },
  "language_info": {
   "codemirror_mode": {
    "name": "ipython",
    "version": 3
   },
   "file_extension": ".py",
   "mimetype": "text/x-python",
   "name": "python",
   "nbconvert_exporter": "python",
   "pygments_lexer": "ipython3",
   "version": "3.9.6"
  }
 },
 "nbformat": 4,
 "nbformat_minor": 4
}
