{
 "cells": [
  {
   "cell_type": "markdown",
   "id": "adc6f78e-2214-413e-9e50-10c217974548",
   "metadata": {},
   "source": [
    "### Sustainability Aware Asset Management: **Group A (Mean-Variance Portfolio)**\n",
    "#### **Data import and cleaning**"
   ]
  },
  {
   "cell_type": "code",
   "execution_count": 5,
   "id": "6a8c9147-0ab5-49d1-8912-ff1f6f56818b",
   "metadata": {},
   "outputs": [],
   "source": [
    "## Packages lists:\n",
    "import pandas as pd\n",
    "import openpyxl"
   ]
  },
  {
   "cell_type": "code",
   "execution_count": 6,
   "id": "47f820de-55cd-4985-8294-11f1fcfe84a0",
   "metadata": {},
   "outputs": [],
   "source": [
    "## Importing the 'Static.xlsx' file to have information on the companies (ISIN, Name, Sector, Country and Region.)\n",
    "companies = pd.read_excel('Data/Static.xlsx')\n",
    "\n",
    "## Importing the Monthly and Yearly Returns of each stock.\n",
    "df_m = pd.read_excel(\"Data/DS_RI_T_USD_M.xlsx\")\n",
    "df_y = pd.read_excel(\"Data/DS_RI_T_USD_Y_CAI.xlsx\")"
   ]
  },
  {
   "cell_type": "code",
   "execution_count": 7,
   "id": "fb54db27-a01e-4dae-8219-6e8b648ba2f3",
   "metadata": {},
   "outputs": [],
   "source": [
    "## Dropping the ISIN columns\n",
    "monthly_return = df_m.drop('ISIN', axis=1)\n",
    "yearly_return = df_y.drop('ISIN', axis=1)\n",
    "\n",
    "## Indexing the Companies names\n",
    "monthly_return = monthly_return.set_index('NAME')\n",
    "yearly_return = yearly_return.set_index('NAME')\n",
    "\n",
    "## Removing the index name\n",
    "monthly_return.index.name = None\n",
    "yearly_return.index.name = None\n",
    "\n",
    "## Transposing the dataframes to have a better structure to work with\n",
    "monthly_return = monthly_return.T\n",
    "yearly_return = yearly_return.T"
   ]
  }
 ],
 "metadata": {
  "kernelspec": {
   "display_name": "Python 3 (ipykernel)",
   "language": "python",
   "name": "python3"
  },
  "language_info": {
   "codemirror_mode": {
    "name": "ipython",
    "version": 3
   },
   "file_extension": ".py",
   "mimetype": "text/x-python",
   "name": "python",
   "nbconvert_exporter": "python",
   "pygments_lexer": "ipython3",
   "version": "3.12.1"
  }
 },
 "nbformat": 4,
 "nbformat_minor": 5
}
