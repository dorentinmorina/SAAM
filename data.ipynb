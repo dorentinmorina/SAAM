{
 "cells": [
  {
   "cell_type": "markdown",
   "id": "adc6f78e-2214-413e-9e50-10c217974548",
   "metadata": {},
   "source": [
    "### Sustainability Aware Asset Management: **Groupe A: North America // Scope 1 + 2**\n",
    "#### **Data import and cleaning**"
   ]
  },
  {
   "cell_type": "code",
   "execution_count": 72,
   "id": "6a8c9147-0ab5-49d1-8912-ff1f6f56818b",
   "metadata": {},
   "outputs": [],
   "source": [
    "## Packages lists:\n",
    "import pandas as pd\n",
    "import openpyxl"
   ]
  },
  {
   "cell_type": "code",
   "execution_count": 73,
   "id": "47f820de-55cd-4985-8294-11f1fcfe84a0",
   "metadata": {},
   "outputs": [],
   "source": [
    "## Importing the 'Static.xlsx' file to have information on the companies (ISIN, Name, Sector, Country and Region.)\n",
    "companies = pd.read_excel('Data/Static.xlsx')\n",
    "## Selecting only the companies from the North America Region.\n",
    "companies = companies[companies.Region == \"AMER\"]\n",
    "## Selecting the ISIN of the companies as Index\n",
    "companies = companies.set_index(companies.ISIN)"
   ]
  },
  {
   "cell_type": "code",
   "execution_count": 74,
   "id": "6da2b764-79dc-46c8-8202-2dc3135cdf4c",
   "metadata": {
    "scrolled": true
   },
   "outputs": [
    {
     "data": {
      "text/html": [
       "<div>\n",
       "<style scoped>\n",
       "    .dataframe tbody tr th:only-of-type {\n",
       "        vertical-align: middle;\n",
       "    }\n",
       "\n",
       "    .dataframe tbody tr th {\n",
       "        vertical-align: top;\n",
       "    }\n",
       "\n",
       "    .dataframe thead th {\n",
       "        text-align: right;\n",
       "    }\n",
       "</style>\n",
       "<table border=\"1\" class=\"dataframe\">\n",
       "  <thead>\n",
       "    <tr style=\"text-align: right;\">\n",
       "      <th></th>\n",
       "      <th>Company</th>\n",
       "      <th>ISIN</th>\n",
       "      <th>GICSSectorName</th>\n",
       "      <th>Country</th>\n",
       "      <th>Region</th>\n",
       "    </tr>\n",
       "    <tr>\n",
       "      <th>ISIN</th>\n",
       "      <th></th>\n",
       "      <th></th>\n",
       "      <th></th>\n",
       "      <th></th>\n",
       "      <th></th>\n",
       "    </tr>\n",
       "  </thead>\n",
       "  <tbody>\n",
       "    <tr>\n",
       "      <th>AN8068571086</th>\n",
       "      <td>Schlumberger Limited</td>\n",
       "      <td>AN8068571086</td>\n",
       "      <td>Energy</td>\n",
       "      <td>UNITED STATES</td>\n",
       "      <td>AMER</td>\n",
       "    </tr>\n",
       "    <tr>\n",
       "      <th>BMG0450A1053</th>\n",
       "      <td>Arch Capital Group Ltd.</td>\n",
       "      <td>BMG0450A1053</td>\n",
       "      <td>Financials</td>\n",
       "      <td>UNITED STATES</td>\n",
       "      <td>AMER</td>\n",
       "    </tr>\n",
       "    <tr>\n",
       "      <th>BMG3223R1088</th>\n",
       "      <td>Everest Group, Ltd.</td>\n",
       "      <td>BMG3223R1088</td>\n",
       "      <td>Financials</td>\n",
       "      <td>UNITED STATES</td>\n",
       "      <td>AMER</td>\n",
       "    </tr>\n",
       "    <tr>\n",
       "      <th>BMG6359F1370</th>\n",
       "      <td>Nabors Industries Ltd.</td>\n",
       "      <td>BMG6359F1370</td>\n",
       "      <td>Energy</td>\n",
       "      <td>UNITED STATES</td>\n",
       "      <td>AMER</td>\n",
       "    </tr>\n",
       "    <tr>\n",
       "      <th>BMG7496G1033</th>\n",
       "      <td>RenaissanceRe Holdings Ltd.</td>\n",
       "      <td>BMG7496G1033</td>\n",
       "      <td>Financials</td>\n",
       "      <td>UNITED STATES</td>\n",
       "      <td>AMER</td>\n",
       "    </tr>\n",
       "  </tbody>\n",
       "</table>\n",
       "</div>"
      ],
      "text/plain": [
       "                                  Company          ISIN GICSSectorName  \\\n",
       "ISIN                                                                     \n",
       "AN8068571086         Schlumberger Limited  AN8068571086         Energy   \n",
       "BMG0450A1053      Arch Capital Group Ltd.  BMG0450A1053     Financials   \n",
       "BMG3223R1088          Everest Group, Ltd.  BMG3223R1088     Financials   \n",
       "BMG6359F1370       Nabors Industries Ltd.  BMG6359F1370         Energy   \n",
       "BMG7496G1033  RenaissanceRe Holdings Ltd.  BMG7496G1033     Financials   \n",
       "\n",
       "                    Country Region  \n",
       "ISIN                                \n",
       "AN8068571086  UNITED STATES   AMER  \n",
       "BMG0450A1053  UNITED STATES   AMER  \n",
       "BMG3223R1088  UNITED STATES   AMER  \n",
       "BMG6359F1370  UNITED STATES   AMER  \n",
       "BMG7496G1033  UNITED STATES   AMER  "
      ]
     },
     "execution_count": 74,
     "metadata": {},
     "output_type": "execute_result"
    }
   ],
   "source": [
    "companies.head()"
   ]
  },
  {
   "cell_type": "code",
   "execution_count": 86,
   "id": "a1bf20d1-4690-43f3-b111-3985c9ee73b0",
   "metadata": {},
   "outputs": [],
   "source": [
    "## Importing the Monthly and Yearly Returns of each stock.\n",
    "df_m = pd.read_excel(\"Data/DS_RI_T_USD_M.xlsx\")\n",
    "df_y = pd.read_excel(\"Data/DS_RI_T_USD_Y_CAI.xlsx\")\n",
    "\n",
    "## Selecting only the North America companies\n",
    "df_m = df_m[df_m.ISIN.isin(companies.index)]\n",
    "df_y = df_y[df_y.ISIN.isin(companies.index)]\n",
    "\n",
    "## Dropping the ISIN columns\n",
    "monthly_return = df_m.drop('ISIN', axis=1)\n",
    "yearly_return = df_y.drop('ISIN', axis=1)\n",
    "\n",
    "## Indexing the Companies names\n",
    "monthly_return = monthly_return.set_index('NAME')\n",
    "yearly_return = yearly_return.set_index('NAME')\n",
    "\n",
    "## Removing the index name\n",
    "monthly_return.index.name = None\n",
    "yearly_return.index.name = None\n",
    "\n",
    "## Transposing the dataframes to have a better structure to work with\n",
    "monthly_return = monthly_return.T\n",
    "yearly_return = yearly_return.T\n"
   ]
  },
  {
   "cell_type": "code",
   "execution_count": 37,
   "id": "fb54db27-a01e-4dae-8219-6e8b648ba2f3",
   "metadata": {},
   "outputs": [
    {
     "name": "stdout",
     "output_type": "stream",
     "text": [
      "0\n",
      "595\n"
     ]
    }
   ],
   "source": [
    "def has_duplicates(arr):\n",
    "    return len(set(arr)) != len(arr)\n",
    "\n",
    "dup = []\n",
    "for i in range(595):\n",
    "    df = monthly_return.iloc[:,0].values\n",
    "    res = has_duplicates(df)\n",
    "    dup.append(res)\n",
    "\n",
    "print(dup.count(True))\n",
    "print(dup.count(False))\n",
    "\n",
    "## As dup.count(True) = 0, we can see that we have no repeting values."
   ]
  },
  {
   "cell_type": "code",
   "execution_count": 16,
   "id": "f195208c-9d30-4378-a56d-e0d834bf02e6",
   "metadata": {},
   "outputs": [],
   "source": [
    "## MV data\n",
    "mv = pd.read_excel('Data/DS_MV_USD_M.xlsx')\n",
    "\n",
    "mv = mv[mv.ISIN.isin(companies.index)]\n",
    "mv = mv.drop('ISIN', axis=1)\n",
    "mv = mv.set_index('NAME')\n",
    "mv.index.name = None"
   ]
  },
  {
   "cell_type": "code",
   "execution_count": 87,
   "id": "0d6f9e3c",
   "metadata": {},
   "outputs": [],
   "source": [
    "scope1_int = pd.read_excel('Data/TC_Scope1Intensity.xlsx', index_col=0)\n",
    "scope1_int = scope1_int[scope1_int.index.isin(companies.index)].reset_index().set_index('NAME')\n",
    "scope1_int = scope1_int.iloc[:,7:]\n",
    "\n",
    "scope1_em = pd.read_excel('Data/TC_Scope1.xlsx', index_col=0)\n",
    "scope1_em = scope1_em[scope1_em.index.isin(companies.index)].reset_index().set_index('NAME')\n",
    "scope1_em = scope1_em.iloc[:,7:]"
   ]
  },
  {
   "cell_type": "code",
   "execution_count": 88,
   "id": "87e77685",
   "metadata": {},
   "outputs": [],
   "source": [
    "scope2_int = pd.read_excel('Data/TC_Scope2Intensity.xlsx', index_col=0)\n",
    "scope2_int = scope2_int[scope2_int.index.isin(companies.index)].reset_index().set_index('NAME')\n",
    "scope2_int = scope2_int.iloc[:,7:]\n",
    "\n",
    "scope2_em = pd.read_excel('Data/TC_Scope2.xlsx', index_col=0)\n",
    "scope2_em = scope2_em[scope2_em.index.isin(companies.index)].reset_index().set_index('NAME')\n",
    "scope2_em = scope2_em.iloc[:,7:]"
   ]
  }
 ],
 "metadata": {
  "kernelspec": {
   "display_name": "Python 3 (ipykernel)",
   "language": "python",
   "name": "python3"
  },
  "language_info": {
   "codemirror_mode": {
    "name": "ipython",
    "version": 3
   },
   "file_extension": ".py",
   "mimetype": "text/x-python",
   "name": "python",
   "nbconvert_exporter": "python",
   "pygments_lexer": "ipython3",
   "version": "3.11.4"
  }
 },
 "nbformat": 4,
 "nbformat_minor": 5
}
